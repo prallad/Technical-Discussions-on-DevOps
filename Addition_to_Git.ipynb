{
  "nbformat": 4,
  "nbformat_minor": 0,
  "metadata": {
    "colab": {
      "name": "Addition to  Git",
      "provenance": [],
      "authorship_tag": "ABX9TyPyAla7rPou4hxRVFieFD5f",
      "include_colab_link": true
    },
    "kernelspec": {
      "name": "python3",
      "display_name": "Python 3"
    },
    "language_info": {
      "name": "python"
    }
  },
  "cells": [
    {
      "cell_type": "markdown",
      "metadata": {
        "id": "view-in-github",
        "colab_type": "text"
      },
      "source": [
        "<a href=\"https://colab.research.google.com/github/prallad/Technical-Discussions-on-DevOps/blob/main/Addition_to_Git.ipynb\" target=\"_parent\"><img src=\"https://colab.research.google.com/assets/colab-badge.svg\" alt=\"Open In Colab\"/></a>"
      ]
    },
    {
      "cell_type": "code",
      "metadata": {
        "id": "3yWsC7E0AGid"
      },
      "source": [
        ""
      ],
      "execution_count": null,
      "outputs": []
    },
    {
      "cell_type": "code",
      "metadata": {
        "id": "yUeWTZ4FT9Fj"
      },
      "source": [
        "def hello():\n",
        "  return \"hi\"\n",
        "  hello()\n",
        "\n",
        "  \n"
      ],
      "execution_count": 4,
      "outputs": []
    },
    {
      "cell_type": "markdown",
      "metadata": {
        "id": "p2_lLDSoUeqA"
      },
      "source": [
        "Defining a few terms"
      ]
    }
  ]
}